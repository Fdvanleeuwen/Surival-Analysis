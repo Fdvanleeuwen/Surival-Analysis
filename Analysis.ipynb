{
 "cells": [
  {
   "attachments": {},
   "cell_type": "markdown",
   "metadata": {},
   "source": [
    "# Surival Analysis"
   ]
  },
  {
   "attachments": {},
   "cell_type": "markdown",
   "metadata": {},
   "source": [
    "### Explain what the project is"
   ]
  },
  {
   "cell_type": "code",
   "execution_count": 35,
   "metadata": {},
   "outputs": [],
   "source": [
    "import pandas as pd\n",
    "import numpy as np\n",
    "import sklearn\n",
    "import matplotlib.pyplot as plt\n",
    "\n",
    "from lifelines import CoxPHFitter\n",
    "from lifelines import KaplanMeierFitter\n",
    "from lifelines.utils import concordance_index as cindex\n",
    "from sklearn.model_selection import train_test_split\n",
    "from sklearn.model_selection import RandomizedSearchCV\n",
    "from random_survival_forest.models import RandomSurvivalForest\n",
    "from random_survival_forest.scoring import concordance_index"
   ]
  },
  {
   "attachments": {},
   "cell_type": "markdown",
   "metadata": {},
   "source": [
    "## DATA"
   ]
  },
  {
   "cell_type": "code",
   "execution_count": 4,
   "metadata": {},
   "outputs": [],
   "source": [
    "# Load the data\n",
    "df = pd.read_csv('Data/haberman.csv', names = ['Age','Operation_year','Nb_pos_detected','Surv'])"
   ]
  },
  {
   "cell_type": "code",
   "execution_count": 5,
   "metadata": {},
   "outputs": [
    {
     "name": "stdout",
     "output_type": "stream",
     "text": [
      "(306, 4)\n"
     ]
    },
    {
     "data": {
      "text/html": [
       "<div>\n",
       "<style scoped>\n",
       "    .dataframe tbody tr th:only-of-type {\n",
       "        vertical-align: middle;\n",
       "    }\n",
       "\n",
       "    .dataframe tbody tr th {\n",
       "        vertical-align: top;\n",
       "    }\n",
       "\n",
       "    .dataframe thead th {\n",
       "        text-align: right;\n",
       "    }\n",
       "</style>\n",
       "<table border=\"1\" class=\"dataframe\">\n",
       "  <thead>\n",
       "    <tr style=\"text-align: right;\">\n",
       "      <th></th>\n",
       "      <th>Age</th>\n",
       "      <th>Operation_year</th>\n",
       "      <th>Nb_pos_detected</th>\n",
       "      <th>Surv</th>\n",
       "    </tr>\n",
       "  </thead>\n",
       "  <tbody>\n",
       "    <tr>\n",
       "      <th>0</th>\n",
       "      <td>30</td>\n",
       "      <td>64</td>\n",
       "      <td>1</td>\n",
       "      <td>1</td>\n",
       "    </tr>\n",
       "    <tr>\n",
       "      <th>1</th>\n",
       "      <td>30</td>\n",
       "      <td>62</td>\n",
       "      <td>3</td>\n",
       "      <td>1</td>\n",
       "    </tr>\n",
       "    <tr>\n",
       "      <th>2</th>\n",
       "      <td>30</td>\n",
       "      <td>65</td>\n",
       "      <td>0</td>\n",
       "      <td>1</td>\n",
       "    </tr>\n",
       "    <tr>\n",
       "      <th>3</th>\n",
       "      <td>31</td>\n",
       "      <td>59</td>\n",
       "      <td>2</td>\n",
       "      <td>1</td>\n",
       "    </tr>\n",
       "    <tr>\n",
       "      <th>4</th>\n",
       "      <td>31</td>\n",
       "      <td>65</td>\n",
       "      <td>4</td>\n",
       "      <td>1</td>\n",
       "    </tr>\n",
       "  </tbody>\n",
       "</table>\n",
       "</div>"
      ],
      "text/plain": [
       "   Age  Operation_year  Nb_pos_detected  Surv\n",
       "0   30              64                1     1\n",
       "1   30              62                3     1\n",
       "2   30              65                0     1\n",
       "3   31              59                2     1\n",
       "4   31              65                4     1"
      ]
     },
     "execution_count": 5,
     "metadata": {},
     "output_type": "execute_result"
    }
   ],
   "source": [
    "#look at the data\n",
    "print(df.shape)\n",
    "\n",
    "df.head()"
   ]
  },
  {
   "cell_type": "code",
   "execution_count": 6,
   "metadata": {},
   "outputs": [
    {
     "data": {
      "text/plain": [
       "<Axes: ylabel='Frequency'>"
      ]
     },
     "execution_count": 6,
     "metadata": {},
     "output_type": "execute_result"
    },
    {
     "data": {
      "image/png": "[encoded data removed]",
      "text/plain": [
       "<Figure size 640x480 with 1 Axes>"
      ]
     },
     "metadata": {},
     "output_type": "display_data"
    }
   ],
   "source": [
    "# Distribution of Age\n",
    "df.Age.plot.hist()"
   ]
  },
  {
   "cell_type": "code",
   "execution_count": 7,
   "metadata": {},
   "outputs": [
    {
     "data": {
      "text/plain": [
       "<Axes: ylabel='Frequency'>"
      ]
     },
     "execution_count": 7,
     "metadata": {},
     "output_type": "execute_result"
    },
    {
     "data": {
      "image/png": "[encoded data removed]",
      "text/plain": [
       "<Figure size 640x480 with 1 Axes>"
      ]
     },
     "metadata": {},
     "output_type": "display_data"
    }
   ],
   "source": [
    "# Distribution of Age\n",
    "df.Nb_pos_detected.plot.hist()"
   ]
  },
  {
   "cell_type": "code",
   "execution_count": 8,
   "metadata": {},
   "outputs": [
    {
     "data": {
      "text/plain": [
       "0.7352941176470589"
      ]
     },
     "execution_count": 8,
     "metadata": {},
     "output_type": "execute_result"
    }
   ],
   "source": [
    "# percentage of people who did not die in 5 years\n",
    "df[df.Surv == 1].shape[0] / df.shape[0]"
   ]
  },
  {
   "cell_type": "code",
   "execution_count": 9,
   "metadata": {},
   "outputs": [],
   "source": [
    "# Another way to look at the data\n",
    "#import pandas_profiling\n",
    "#pandas_profiling.ProfileReport(df)\n"
   ]
  },
  {
   "cell_type": "code",
   "execution_count": 10,
   "metadata": {},
   "outputs": [
    {
     "name": "stdout",
     "output_type": "stream",
     "text": [
      "Total number of patients in training set: 229\n",
      "Total number of patients in validation set: 77\n",
      "Total number of patients in test set: 62\n"
     ]
    }
   ],
   "source": [
    "# split data in train, val en test\n",
    "np.random.seed(0)\n",
    "df_dev, df_test = train_test_split(df, test_size= 0.2)\n",
    "df_train, df_val = train_test_split(df, test_size= 0.25)\n",
    "\n",
    "print(\"Total number of patients in training set:\", df_train.shape[0])\n",
    "print(\"Total number of patients in validation set:\", df_val.shape[0])\n",
    "print(\"Total number of patients in test set:\", df_test.shape[0])"
   ]
  },
  {
   "cell_type": "code",
   "execution_count": 11,
   "metadata": {},
   "outputs": [],
   "source": [
    "# normalize the continuous covariates\n",
    "\n",
    "continuous_columns = ['Operation_year','Nb_pos_detected']\n",
    "mean = df_train.loc[:, continuous_columns].mean()\n",
    "std = df_train.loc[:, continuous_columns].std()\n",
    "df_train.loc[:, continuous_columns] = (df_train.loc[:, continuous_columns] - mean) / std\n",
    "df_val.loc[:, continuous_columns] = (df_val.loc[:, continuous_columns] - mean) / std\n",
    "df_test.loc[:, continuous_columns] = (df_test.loc[:, continuous_columns] - mean) / std"
   ]
  },
  {
   "cell_type": "code",
   "execution_count": 12,
   "metadata": {},
   "outputs": [
    {
     "data": {
      "text/html": [
       "<div>\n",
       "<style scoped>\n",
       "    .dataframe tbody tr th:only-of-type {\n",
       "        vertical-align: middle;\n",
       "    }\n",
       "\n",
       "    .dataframe tbody tr th {\n",
       "        vertical-align: top;\n",
       "    }\n",
       "\n",
       "    .dataframe thead th {\n",
       "        text-align: right;\n",
       "    }\n",
       "</style>\n",
       "<table border=\"1\" class=\"dataframe\">\n",
       "  <thead>\n",
       "    <tr style=\"text-align: right;\">\n",
       "      <th></th>\n",
       "      <th>Operation_year</th>\n",
       "      <th>Nb_pos_detected</th>\n",
       "    </tr>\n",
       "  </thead>\n",
       "  <tbody>\n",
       "    <tr>\n",
       "      <th>count</th>\n",
       "      <td>2.290000e+02</td>\n",
       "      <td>2.290000e+02</td>\n",
       "    </tr>\n",
       "    <tr>\n",
       "      <th>mean</th>\n",
       "      <td>1.755025e-16</td>\n",
       "      <td>6.205613e-17</td>\n",
       "    </tr>\n",
       "    <tr>\n",
       "      <th>std</th>\n",
       "      <td>1.000000e+00</td>\n",
       "      <td>1.000000e+00</td>\n",
       "    </tr>\n",
       "    <tr>\n",
       "      <th>min</th>\n",
       "      <td>-1.519099e+00</td>\n",
       "      <td>-5.575568e-01</td>\n",
       "    </tr>\n",
       "    <tr>\n",
       "      <th>25%</th>\n",
       "      <td>-9.044814e-01</td>\n",
       "      <td>-5.575568e-01</td>\n",
       "    </tr>\n",
       "    <tr>\n",
       "      <th>50%</th>\n",
       "      <td>1.744549e-02</td>\n",
       "      <td>-4.225879e-01</td>\n",
       "    </tr>\n",
       "    <tr>\n",
       "      <th>75%</th>\n",
       "      <td>9.393724e-01</td>\n",
       "      <td>-1.768150e-02</td>\n",
       "    </tr>\n",
       "    <tr>\n",
       "      <th>max</th>\n",
       "      <td>1.861299e+00</td>\n",
       "      <td>6.460822e+00</td>\n",
       "    </tr>\n",
       "  </tbody>\n",
       "</table>\n",
       "</div>"
      ],
      "text/plain": [
       "       Operation_year  Nb_pos_detected\n",
       "count    2.290000e+02     2.290000e+02\n",
       "mean     1.755025e-16     6.205613e-17\n",
       "std      1.000000e+00     1.000000e+00\n",
       "min     -1.519099e+00    -5.575568e-01\n",
       "25%     -9.044814e-01    -5.575568e-01\n",
       "50%      1.744549e-02    -4.225879e-01\n",
       "75%      9.393724e-01    -1.768150e-02\n",
       "max      1.861299e+00     6.460822e+00"
      ]
     },
     "execution_count": 12,
     "metadata": {},
     "output_type": "execute_result"
    }
   ],
   "source": [
    "# check if the normalization worked\n",
    "df_train.loc[:, continuous_columns].describe()"
   ]
  },
  {
   "attachments": {},
   "cell_type": "markdown",
   "metadata": {},
   "source": [
    "## Model building"
   ]
  },
  {
   "attachments": {},
   "cell_type": "markdown",
   "metadata": {},
   "source": [
    "### The Kaplan Meier Estimator\n",
    "\n",
    "##### We can use this estiamtor to estimate the survivial function\n",
    "##### Visually we can incpect the probability of an event at a certain time interval."
   ]
  },
  {
   "cell_type": "code",
   "execution_count": 13,
   "metadata": {},
   "outputs": [
    {
     "data": {
      "text/plain": [
       "<Axes: xlabel='timeline'>"
      ]
     },
     "execution_count": 13,
     "metadata": {},
     "output_type": "execute_result"
    },
    {
     "data": {
      "image/png": "[encoded data removed]",
      "text/plain": [
       "<Figure size 640x480 with 1 Axes>"
      ]
     },
     "metadata": {},
     "output_type": "display_data"
    }
   ],
   "source": [
    "## create a kmf object\n",
    "km = KaplanMeierFitter() \n",
    "\n",
    "## Fit the data into the model\n",
    "km.fit(df_train.Age, df_train.Surv,label='Kaplan Meier Estimate')\n",
    "\n",
    "## Create an estimate\n",
    "km.plot(ci_show=False) ## ci_show is meant for Confidence interval, since our data set is too tiny, not showing it."
   ]
  },
  {
   "cell_type": "code",
   "execution_count": 14,
   "metadata": {},
   "outputs": [
    {
     "data": {
      "text/plain": [
       "<Axes: xlabel='timeline'>"
      ]
     },
     "execution_count": 14,
     "metadata": {},
     "output_type": "execute_result"
    },
    {
     "data": {
      "image/png": "[encoded data removed]",
      "text/plain": [
       "<Figure size 640x480 with 1 Axes>"
      ]
     },
     "metadata": {},
     "output_type": "display_data"
    }
   ],
   "source": [
    "# We can also make different survival groups for subgroups in our data\n",
    "\n",
    "## Instantiate the class to create an object\n",
    "km_2 = KaplanMeierFitter()\n",
    "\n",
    "## creating 2 cohorts : with at least one positive axillary detected, and one with no one detected\n",
    "groups = df_train['Nb_pos_detected']   \n",
    "i1 = (groups >= 1)   \n",
    "i2 = (groups < 1)     \n",
    "\n",
    "\n",
    "## fit the model for 1st cohort\n",
    "km_2.fit(df_train.Age[i1], df_train.Surv[i1], label='at least one positive axillary detected')\n",
    "a1 = km_2.plot()\n",
    "\n",
    "## fit the model for 2nd cohort\n",
    "km_2.fit(df_train.Age[i2], df_train.Surv[i2], label='no positive axillary nodes detected')\n",
    "km_2.plot(ax=a1)"
   ]
  },
  {
   "attachments": {},
   "cell_type": "markdown",
   "metadata": {},
   "source": [
    "### Cox Proportional Hazards model\n",
    "\n",
    "#### The Cox model gives us the ability to include covariates in the model."
   ]
  },
  {
   "cell_type": "code",
   "execution_count": 15,
   "metadata": {},
   "outputs": [
    {
     "data": {
      "text/html": [
       "<div>\n",
       "<style scoped>\n",
       "    .dataframe tbody tr th:only-of-type {\n",
       "        vertical-align: middle;\n",
       "    }\n",
       "\n",
       "    .dataframe tbody tr th {\n",
       "        vertical-align: top;\n",
       "    }\n",
       "\n",
       "    .dataframe thead th {\n",
       "        text-align: right;\n",
       "    }\n",
       "</style>\n",
       "<table border=\"1\" class=\"dataframe\">\n",
       "  <tbody>\n",
       "    <tr>\n",
       "      <th>model</th>\n",
       "      <td>lifelines.CoxPHFitter</td>\n",
       "    </tr>\n",
       "    <tr>\n",
       "      <th>duration col</th>\n",
       "      <td>'Age'</td>\n",
       "    </tr>\n",
       "    <tr>\n",
       "      <th>event col</th>\n",
       "      <td>'Surv'</td>\n",
       "    </tr>\n",
       "    <tr>\n",
       "      <th>baseline estimation</th>\n",
       "      <td>breslow</td>\n",
       "    </tr>\n",
       "    <tr>\n",
       "      <th>number of observations</th>\n",
       "      <td>229</td>\n",
       "    </tr>\n",
       "    <tr>\n",
       "      <th>number of events observed</th>\n",
       "      <td>229</td>\n",
       "    </tr>\n",
       "    <tr>\n",
       "      <th>partial log-likelihood</th>\n",
       "      <td>-1016.38</td>\n",
       "    </tr>\n",
       "    <tr>\n",
       "      <th>time fit was run</th>\n",
       "      <td>2023-06-29 15:52:21 UTC</td>\n",
       "    </tr>\n",
       "  </tbody>\n",
       "</table>\n",
       "</div><table border=\"1\" class=\"dataframe\">\n",
       "  <thead>\n",
       "    <tr style=\"text-align: right;\">\n",
       "      <th style=\"min-width: 12px;\"></th>\n",
       "      <th style=\"min-width: 12px;\">coef</th>\n",
       "      <th style=\"min-width: 12px;\">exp(coef)</th>\n",
       "      <th style=\"min-width: 12px;\">se(coef)</th>\n",
       "      <th style=\"min-width: 12px;\">coef lower 95%</th>\n",
       "      <th style=\"min-width: 12px;\">coef upper 95%</th>\n",
       "      <th style=\"min-width: 12px;\">exp(coef) lower 95%</th>\n",
       "      <th style=\"min-width: 12px;\">exp(coef) upper 95%</th>\n",
       "      <th style=\"min-width: 12px;\">cmp to</th>\n",
       "      <th style=\"min-width: 12px;\">z</th>\n",
       "      <th style=\"min-width: 12px;\">p</th>\n",
       "      <th style=\"min-width: 12px;\">-log2(p)</th>\n",
       "    </tr>\n",
       "  </thead>\n",
       "  <tbody>\n",
       "    <tr>\n",
       "      <th>Operation_year</th>\n",
       "      <td>-0.10</td>\n",
       "      <td>0.90</td>\n",
       "      <td>0.07</td>\n",
       "      <td>-0.23</td>\n",
       "      <td>0.03</td>\n",
       "      <td>0.80</td>\n",
       "      <td>1.03</td>\n",
       "      <td>0.00</td>\n",
       "      <td>-1.52</td>\n",
       "      <td>0.13</td>\n",
       "      <td>2.96</td>\n",
       "    </tr>\n",
       "    <tr>\n",
       "      <th>Nb_pos_detected</th>\n",
       "      <td>0.13</td>\n",
       "      <td>1.13</td>\n",
       "      <td>0.07</td>\n",
       "      <td>-0.01</td>\n",
       "      <td>0.26</td>\n",
       "      <td>0.99</td>\n",
       "      <td>1.29</td>\n",
       "      <td>0.00</td>\n",
       "      <td>1.88</td>\n",
       "      <td>0.06</td>\n",
       "      <td>4.07</td>\n",
       "    </tr>\n",
       "  </tbody>\n",
       "</table><br><div>\n",
       "<style scoped>\n",
       "    .dataframe tbody tr th:only-of-type {\n",
       "        vertical-align: middle;\n",
       "    }\n",
       "\n",
       "    .dataframe tbody tr th {\n",
       "        vertical-align: top;\n",
       "    }\n",
       "\n",
       "    .dataframe thead th {\n",
       "        text-align: right;\n",
       "    }\n",
       "</style>\n",
       "<table border=\"1\" class=\"dataframe\">\n",
       "  <tbody>\n",
       "    <tr>\n",
       "      <th>Concordance</th>\n",
       "      <td>0.54</td>\n",
       "    </tr>\n",
       "    <tr>\n",
       "      <th>Partial AIC</th>\n",
       "      <td>2036.76</td>\n",
       "    </tr>\n",
       "    <tr>\n",
       "      <th>log-likelihood ratio test</th>\n",
       "      <td>5.16 on 2 df</td>\n",
       "    </tr>\n",
       "    <tr>\n",
       "      <th>-log2(p) of ll-ratio test</th>\n",
       "      <td>3.72</td>\n",
       "    </tr>\n",
       "  </tbody>\n",
       "</table>\n",
       "</div>"
      ],
      "text/latex": [
       "\\begin{tabular}{lrrrrrrrrrrr}\n",
       " & coef & exp(coef) & se(coef) & coef lower 95% & coef upper 95% & exp(coef) lower 95% & exp(coef) upper 95% & cmp to & z & p & -log2(p) \\\\\n",
       "covariate &  &  &  &  &  &  &  &  &  &  &  \\\\\n",
       "Operation_year & -0.10 & 0.90 & 0.07 & -0.23 & 0.03 & 0.80 & 1.03 & 0.00 & -1.52 & 0.13 & 2.96 \\\\\n",
       "Nb_pos_detected & 0.13 & 1.13 & 0.07 & -0.01 & 0.26 & 0.99 & 1.29 & 0.00 & 1.88 & 0.06 & 4.07 \\\\\n",
       "\\end{tabular}\n"
      ],
      "text/plain": [
       "<lifelines.CoxPHFitter: fitted with 229 total observations, 0 right-censored observations>\n",
       "             duration col = 'Age'\n",
       "                event col = 'Surv'\n",
       "      baseline estimation = breslow\n",
       "   number of observations = 229\n",
       "number of events observed = 229\n",
       "   partial log-likelihood = -1016.38\n",
       "         time fit was run = 2023-06-29 15:52:21 UTC\n",
       "\n",
       "---\n",
       "                  coef  exp(coef)   se(coef)   coef lower 95%   coef upper 95%  exp(coef) lower 95%  exp(coef) upper 95%\n",
       "covariate                                                                                                               \n",
       "Operation_year   -0.10       0.90       0.07            -0.23             0.03                 0.80                 1.03\n",
       "Nb_pos_detected   0.13       1.13       0.07            -0.01             0.26                 0.99                 1.29\n",
       "\n",
       "                  cmp to     z    p   -log2(p)\n",
       "covariate                                     \n",
       "Operation_year      0.00 -1.52 0.13       2.96\n",
       "Nb_pos_detected     0.00  1.88 0.06       4.07\n",
       "---\n",
       "Concordance = 0.54\n",
       "Partial AIC = 2036.76\n",
       "log-likelihood ratio test = 5.16 on 2 df\n",
       "-log2(p) of ll-ratio test = 3.72"
      ]
     },
     "metadata": {},
     "output_type": "display_data"
    }
   ],
   "source": [
    "cph = CoxPHFitter()\n",
    "cph.fit(df_train, duration_col = 'Age', event_col = 'Surv')\n",
    "cph.print_summary()"
   ]
  },
  {
   "cell_type": "code",
   "execution_count": 16,
   "metadata": {},
   "outputs": [
    {
     "data": {
      "text/plain": [
       "<Axes: xlabel='log(HR) (95% CI)'>"
      ]
     },
     "execution_count": 16,
     "metadata": {},
     "output_type": "execute_result"
    },
    {
     "data": {
      "image/png": "[encoded data removed]",
      "text/plain": [
       "<Figure size 640x480 with 1 Axes>"
      ]
     },
     "metadata": {},
     "output_type": "display_data"
    }
   ],
   "source": [
    "# visualise the signifance and effect of each variable\n",
    "\n",
    "cph.plot()"
   ]
  },
  {
   "cell_type": "code",
   "execution_count": 17,
   "metadata": {},
   "outputs": [
    {
     "data": {
      "image/png": "[encoded data removed]",
      "text/plain": [
       "<Figure size 640x480 with 1 Axes>"
      ]
     },
     "metadata": {},
     "output_type": "display_data"
    }
   ],
   "source": [
    "# We can compare the predicted survival curves for different values of variables\n",
    "\n",
    "cph.plot_covariate_groups('Nb_pos_detected', values=[0, 1, 2, 3, 4]);"
   ]
  },
  {
   "cell_type": "code",
   "execution_count": 18,
   "metadata": {},
   "outputs": [
    {
     "name": "stdout",
     "output_type": "stream",
     "text": [
      "Train: 0.4618991563664901\n",
      "Val: 0.47654061624649857\n",
      "Test: 0.4994597514856834\n"
     ]
    }
   ],
   "source": [
    "# Train\n",
    "scores = cph.predict_partial_hazard(df_train)\n",
    "cox_train_scores = cindex(df_train['Age'].values, scores.values, df_train['Surv'].values)\n",
    "# Validation\n",
    "scores = cph.predict_partial_hazard(df_val)\n",
    "cox_val_scores = cindex(df_val['Age'].values, scores.values, df_val['Surv'].values)\n",
    "# Test\n",
    "scores = cph.predict_partial_hazard(df_test)\n",
    "cox_test_scores = cindex(df_test['Age'].values, scores.values, df_test['Surv'].values)\n",
    "\n",
    "print(\"Train:\", cox_train_scores)\n",
    "print(\"Val:\", cox_val_scores)\n",
    "print(\"Test:\", cox_test_scores)"
   ]
  },
  {
   "attachments": {},
   "cell_type": "markdown",
   "metadata": {},
   "source": [
    "## Random survival forest"
   ]
  },
  {
   "cell_type": "code",
   "execution_count": 29,
   "metadata": {},
   "outputs": [],
   "source": [
    "# Split the data in the first format\n",
    "X_train = df_train.drop([\"Age\",\"Surv\"], axis = 1)\n",
    "Y_train = df_train.loc[:,[\"Surv\", \"Age\"]]\n",
    "\n",
    "X_val = df_val.drop([\"Age\",\"Surv\"], axis = 1)\n",
    "Y_val = df_val.loc[:,[\"Surv\", \"Age\"]]\n",
    "\n",
    "X_test = df_test.drop([\"Age\",\"Surv\"], axis = 1)\n",
    "Y_test = df_test.loc[:,[\"Surv\", \"Age\"]]"
   ]
  },
  {
   "cell_type": "code",
   "execution_count": 53,
   "metadata": {},
   "outputs": [],
   "source": [
    "# Build the model\n",
    "rf = RandomSurvivalForest(n_estimators=100, n_jobs=-1, random_state=10) \n",
    "rf = rf.fit(X_train, Y_train)"
   ]
  },
  {
   "cell_type": "code",
   "execution_count": 54,
   "metadata": {},
   "outputs": [
    {
     "name": "stdout",
     "output_type": "stream",
     "text": [
      "C-index 0.497\n"
     ]
    }
   ],
   "source": [
    "y_pred = rf.predict(X_test)\n",
    "c_val = concordance_index(y_time=Y_test[\"Age\"], y_pred=y_pred, y_event=Y_test[\"Surv\"])\n",
    "print(f'C-index {round(c_val, 3)}')"
   ]
  },
  {
   "cell_type": "code",
   "execution_count": 51,
   "metadata": {},
   "outputs": [
    {
     "ename": "ZeroDivisionError",
     "evalue": "division by zero",
     "output_type": "error",
     "traceback": [
      "\u001b[0;31m---------------------------------------------------------------------------\u001b[0m",
      "\u001b[0;31mZeroDivisionError\u001b[0m                         Traceback (most recent call last)",
      "Cell \u001b[0;32mIn[51], line 12\u001b[0m\n\u001b[1;32m     10\u001b[0m \u001b[39mfor\u001b[39;00m j \u001b[39min\u001b[39;00m param_vals[\u001b[39m\"\u001b[39m\u001b[39mn_estimators\u001b[39m\u001b[39m\"\u001b[39m]:\n\u001b[1;32m     11\u001b[0m         model \u001b[39m=\u001b[39m RandomSurvivalForest(n_estimators\u001b[39m=\u001b[39mj, n_jobs\u001b[39m=\u001b[39m\u001b[39m-\u001b[39m\u001b[39m1\u001b[39m, min_leaf \u001b[39m=\u001b[39m i, random_state\u001b[39m=\u001b[39m\u001b[39m10\u001b[39m)\n\u001b[0;32m---> 12\u001b[0m         y_pred \u001b[39m=\u001b[39m model\u001b[39m.\u001b[39;49mpredict(X_test)\n\u001b[1;32m     13\u001b[0m         c_val \u001b[39m=\u001b[39m concordance_index(y_time\u001b[39m=\u001b[39mY_test[\u001b[39m\"\u001b[39m\u001b[39mAge\u001b[39m\u001b[39m\"\u001b[39m], y_pred\u001b[39m=\u001b[39my_pred, y_event\u001b[39m=\u001b[39mY_test[\u001b[39m\"\u001b[39m\u001b[39mSurv\u001b[39m\u001b[39m\"\u001b[39m])\n\u001b[1;32m     15\u001b[0m         \u001b[39mif\u001b[39;00m c_val \u001b[39m>\u001b[39m C_all_best:\n",
      "File \u001b[0;32m/Library/Frameworks/Python.framework/Versions/3.11/lib/python3.11/site-packages/random_survival_forest/models.py:120\u001b[0m, in \u001b[0;36mRandomSurvivalForest.predict\u001b[0;34m(self, xs)\u001b[0m\n\u001b[1;32m    114\u001b[0m \u001b[39mdef\u001b[39;00m \u001b[39mpredict\u001b[39m(\u001b[39mself\u001b[39m, xs):\n\u001b[1;32m    115\u001b[0m \u001b[39m    \u001b[39m\u001b[39m\"\"\"\u001b[39;00m\n\u001b[1;32m    116\u001b[0m \u001b[39m    Predict survival for xs.\u001b[39;00m\n\u001b[1;32m    117\u001b[0m \u001b[39m    :param xs: The input samples\u001b[39;00m\n\u001b[1;32m    118\u001b[0m \u001b[39m    :return: List of the predicted cumulative hazard functions.\u001b[39;00m\n\u001b[1;32m    119\u001b[0m \u001b[39m    \"\"\"\u001b[39;00m\n\u001b[0;32m--> 120\u001b[0m     ensemble_chfs \u001b[39m=\u001b[39m [\u001b[39mself\u001b[39;49m\u001b[39m.\u001b[39;49m_compute_ensemble_chf(sample_idx\u001b[39m=\u001b[39;49msample_idx, xs\u001b[39m=\u001b[39;49mxs, trees\u001b[39m=\u001b[39;49m\u001b[39mself\u001b[39;49m\u001b[39m.\u001b[39;49mtrees)\n\u001b[1;32m    121\u001b[0m                      \u001b[39mfor\u001b[39;49;00m sample_idx \u001b[39min\u001b[39;49;00m \u001b[39mrange\u001b[39;49m(xs\u001b[39m.\u001b[39;49mshape[\u001b[39m0\u001b[39;49m])]\n\u001b[1;32m    122\u001b[0m     \u001b[39mreturn\u001b[39;00m ensemble_chfs\n",
      "File \u001b[0;32m/Library/Frameworks/Python.framework/Versions/3.11/lib/python3.11/site-packages/random_survival_forest/models.py:120\u001b[0m, in \u001b[0;36m<listcomp>\u001b[0;34m(.0)\u001b[0m\n\u001b[1;32m    114\u001b[0m \u001b[39mdef\u001b[39;00m \u001b[39mpredict\u001b[39m(\u001b[39mself\u001b[39m, xs):\n\u001b[1;32m    115\u001b[0m \u001b[39m    \u001b[39m\u001b[39m\"\"\"\u001b[39;00m\n\u001b[1;32m    116\u001b[0m \u001b[39m    Predict survival for xs.\u001b[39;00m\n\u001b[1;32m    117\u001b[0m \u001b[39m    :param xs: The input samples\u001b[39;00m\n\u001b[1;32m    118\u001b[0m \u001b[39m    :return: List of the predicted cumulative hazard functions.\u001b[39;00m\n\u001b[1;32m    119\u001b[0m \u001b[39m    \"\"\"\u001b[39;00m\n\u001b[0;32m--> 120\u001b[0m     ensemble_chfs \u001b[39m=\u001b[39m [\u001b[39mself\u001b[39;49m\u001b[39m.\u001b[39;49m_compute_ensemble_chf(sample_idx\u001b[39m=\u001b[39;49msample_idx, xs\u001b[39m=\u001b[39;49mxs, trees\u001b[39m=\u001b[39;49m\u001b[39mself\u001b[39;49m\u001b[39m.\u001b[39;49mtrees)\n\u001b[1;32m    121\u001b[0m                      \u001b[39mfor\u001b[39;00m sample_idx \u001b[39min\u001b[39;00m \u001b[39mrange\u001b[39m(xs\u001b[39m.\u001b[39mshape[\u001b[39m0\u001b[39m])]\n\u001b[1;32m    122\u001b[0m     \u001b[39mreturn\u001b[39;00m ensemble_chfs\n",
      "File \u001b[0;32m/Library/Frameworks/Python.framework/Versions/3.11/lib/python3.11/site-packages/random_survival_forest/models.py:147\u001b[0m, in \u001b[0;36mRandomSurvivalForest._compute_ensemble_chf\u001b[0;34m(self, sample_idx, xs, trees)\u001b[0m\n\u001b[1;32m    145\u001b[0m     denominator \u001b[39m=\u001b[39m denominator \u001b[39m+\u001b[39m \u001b[39m1\u001b[39m\n\u001b[1;32m    146\u001b[0m     numerator \u001b[39m=\u001b[39m numerator \u001b[39m+\u001b[39m \u001b[39m1\u001b[39m \u001b[39m*\u001b[39m chf\n\u001b[0;32m--> 147\u001b[0m ensemble_chf \u001b[39m=\u001b[39m numerator \u001b[39m/\u001b[39;49m denominator\n\u001b[1;32m    148\u001b[0m \u001b[39mreturn\u001b[39;00m ensemble_chf\n",
      "\u001b[0;31mZeroDivisionError\u001b[0m: division by zero"
     ]
    }
   ],
   "source": [
    "# Hyper parameter optimization\n",
    "model = RandomSurvivalForest()\n",
    "param_vals = {'n_estimators': [10, 50, 100, 200],\n",
    "              'min_leaf': [2,3,4]}\n",
    "\n",
    "C_all_best = 0\n",
    "min_leaf_best = 0\n",
    "n_estimators_best = 0\n",
    "for i in param_vals[\"min_leaf\"]:\n",
    "    for j in param_vals[\"n_estimators\"]:\n",
    "            model = RandomSurvivalForest(n_estimators=j, n_jobs=-1, min_leaf = i, random_state=10)\n",
    "            y_pred = model.predict(X_test)\n",
    "            c_val = concordance_index(y_time=Y_test[\"Age\"], y_pred=y_pred, y_event=Y_test[\"Surv\"])\n",
    "\n",
    "            if c_val > C_all_best:\n",
    "                  C_all_best = c_val\n",
    "                  min_leaf_best = i\n",
    "                  n_estimators_best = j\n",
    "                  \n",
    "    \n",
    "print(f\"The performace is C = {C_all_best}, where the best parameters are min_leaf = {min_leaf_best}, n_estimators = {n_estimators_best}\")\n"
   ]
  },
  {
   "cell_type": "code",
   "execution_count": 41,
   "metadata": {},
   "outputs": [
    {
     "name": "stdout",
     "output_type": "stream",
     "text": [
      "2 100\n",
      "2 200\n",
      "2 300\n",
      "2 400\n",
      "3 100\n",
      "3 200\n",
      "3 300\n",
      "3 400\n",
      "4 100\n",
      "4 200\n",
      "4 300\n",
      "4 400\n"
     ]
    }
   ],
   "source": [
    "for i in param_vals[\"min_leaf\"]:\n",
    "    for j in param_vals[\"n_estimators\"]:\n",
    "        print(i, j)"
   ]
  }
 ],
 "metadata": {
  "kernelspec": {
   "display_name": "Python 3",
   "language": "python",
   "name": "python3"
  },
  "language_info": {
   "codemirror_mode": {
    "name": "ipython",
    "version": 3
   },
   "file_extension": ".py",
   "mimetype": "text/x-python",
   "name": "python",
   "nbconvert_exporter": "python",
   "pygments_lexer": "ipython3",
   "version": "3.11.3"
  },
  "orig_nbformat": 4
 },
 "nbformat": 4,
 "nbformat_minor": 2
}
